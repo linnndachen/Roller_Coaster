{
 "cells": [
  {
   "cell_type": "code",
   "execution_count": 2,
   "metadata": {},
   "outputs": [],
   "source": [
    "import csv\n",
    "import pandas as pd\n",
    "import matplotlib.pyplot as plt"
   ]
  },
  {
   "cell_type": "markdown",
   "metadata": {},
   "source": [
    "This is the part II of the project Roller Coaster. It answers the additional and not required questions asked by Codecademy, a platform which provided this project. "
   ]
  },
  {
   "cell_type": "code",
   "execution_count": 3,
   "metadata": {},
   "outputs": [
    {
     "name": "stdout",
     "output_type": "stream",
     "text": [
      "                                     name material_type seating_type  speed  \\\n",
      "0                                Goudurix         Steel     Sit Down   75.0   \n",
      "1                           Dream catcher         Steel    Suspended   45.0   \n",
      "2                              Alucinakis         Steel     Sit Down   30.0   \n",
      "3                                Anaconda        Wooden     Sit Down   85.0   \n",
      "4                                  Azteka         Steel     Sit Down   55.0   \n",
      "...                                   ...           ...          ...    ...   \n",
      "2797                     Dragon Challenge         Steel     Sit Down    NaN   \n",
      "2798                           Wild Mouse         Steel     Spinning    NaN   \n",
      "2799  Unnamed Atlantica Supersplash Clone         Steel     Sit Down   80.0   \n",
      "2800      Unknown Duelling Launch Coaster         Steel           na    NaN   \n",
      "2801                        Black Diamond         Steel     Sit Down    NaN   \n",
      "\n",
      "      height  length  num_inversions                   manufacturer  \\\n",
      "0       37.0   950.0             7.0                         Vekoma   \n",
      "1       25.0   600.0             0.0                         Vekoma   \n",
      "2        8.0   250.0             0.0                       Zamperla   \n",
      "3       35.0  1200.0             0.0                William J. Cobb   \n",
      "4       17.0   500.0             0.0                         Soquet   \n",
      "...      ...     ...             ...                            ...   \n",
      "2797     NaN     NaN             0.0                        Pinfari   \n",
      "2798     NaN     NaN             0.0                      Reverchon   \n",
      "2799    30.0   390.0             0.0                           Mack   \n",
      "2800     NaN     NaN             0.0                             na   \n",
      "2801    11.0     NaN             0.0  Philadelphia Toboggan Coaster   \n",
      "\n",
      "                            park            status  \n",
      "0                   Parc Asterix  status.operating  \n",
      "1                  Bobbejaanland  status.operating  \n",
      "2                   Terra Mítica  status.operating  \n",
      "3                 Walygator Parc  status.operating  \n",
      "4                         Le Pal  status.operating  \n",
      "...                          ...               ...  \n",
      "2797  Barry Island Pleasure Park  status.operating  \n",
      "2798  Barry Island Pleasure Park  status.operating  \n",
      "2799                      Le Pal  status.announced  \n",
      "2800   Universal's Epic Universe    status.rumored  \n",
      "2801                    Knoebels  status.operating  \n",
      "\n",
      "[2802 rows x 10 columns]\n",
      "Index(['name', 'material_type', 'seating_type', 'speed', 'height', 'length',\n",
      "       'num_inversions', 'manufacturer', 'park', 'status'],\n",
      "      dtype='object')\n"
     ]
    }
   ],
   "source": [
    "coasters_df = pd.read_csv(\"roller_coasters.csv\")\n",
    "print(coasters_df)\n",
    "print(coasters_df.columns)"
   ]
  },
  {
   "cell_type": "markdown",
   "metadata": {},
   "source": [
    "Question 1:\n",
    "\n",
    "What roller coaster seating type is most popular? And do different seating types result in higher/faster/longer roller coasters?"
   ]
  },
  {
   "cell_type": "code",
   "execution_count": 16,
   "metadata": {},
   "outputs": [
    {
     "name": "stdout",
     "output_type": "stream",
     "text": [
      "     seating_type  name\n",
      "8        Sit Down  2214\n",
      "9        Spinning   150\n",
      "5        Inverted   122\n",
      "11      Suspended    55\n",
      "1          Alpine    43\n",
      "14             na    40\n",
      "12  Water Coaster    29\n",
      "3       Floorless    27\n",
      "4          Flying    27\n",
      "6       Motorbike    21\n",
      "10       Stand Up    20\n",
      "0   4th Dimension    18\n",
      "13           Wing    17\n",
      "2       Bobsleigh    11\n",
      "7        Pipeline     5\n"
     ]
    }
   ],
   "source": [
    "mostpopular_seat = coasters_df.groupby(\"seating_type\").name.count().reset_index() #use line comprehension to find the df\n",
    "popularseat_sorted=mostpopular_seat.sort_values(by=\"name\", ascending=False) #sort the df\n",
    "print(popularseat_sorted) "
   ]
  },
  {
   "cell_type": "code",
   "execution_count": 17,
   "metadata": {},
   "outputs": [
    {
     "name": "stdout",
     "output_type": "stream",
     "text": [
      "     seating_type      speed\n",
      "3       Floorless  98.208333\n",
      "13           Wing  95.166667\n",
      "10       Stand Up  86.000000\n",
      "5        Inverted  80.054545\n",
      "12  Water Coaster  76.050000\n",
      "6       Motorbike  71.400000\n",
      "7        Pipeline  70.666667\n",
      "4          Flying  70.125000\n",
      "8        Sit Down  69.758865\n",
      "0   4th Dimension  67.352941\n",
      "2       Bobsleigh  54.111111\n",
      "11      Suspended  53.966667\n",
      "9        Spinning  50.060606\n",
      "1          Alpine  38.333333\n",
      "14             na        NaN\n"
     ]
    }
   ],
   "source": [
    "#Let's see if different seating type will have faster roller coasters\n",
    "\n",
    "speed_vs_seating = coasters_df.groupby(\"seating_type\").speed.mean().reset_index() #use line comprehension to find the df\n",
    "speed_seat_sorted=speed_vs_seating.sort_values(by=\"speed\", ascending=False) #sort the df\n",
    "print(speed_seat_sorted) "
   ]
  },
  {
   "cell_type": "markdown",
   "metadata": {},
   "source": [
    "Question 2:\n",
    "\n",
    "Do roller coaster manufacturers have any specialties (do they focus on speed, height, seating type, or inversions)?"
   ]
  },
  {
   "cell_type": "code",
   "execution_count": 47,
   "metadata": {},
   "outputs": [
    {
     "name": "stdout",
     "output_type": "stream",
     "text": [
      "                        manufacturer       speed  height  seating_type  \\\n",
      "40                         Giovanola  121.333333  60.000             3   \n",
      "77                            Morgan  105.625000  53.125             8   \n",
      "58   International Amusement Devices  100.000000  38.000             1   \n",
      "110                          Troisne  100.000000  36.000             1   \n",
      "89                               RMC   99.263158  44.900            20   \n",
      "..                               ...         ...     ...           ...   \n",
      "106                          Techfun         NaN     NaN             1   \n",
      "107                   Technical Park         NaN  10.000             3   \n",
      "111                       Três Eixos         NaN     NaN             2   \n",
      "117                William Strickler         NaN  18.000             1   \n",
      "118                    Wisdom Rides          NaN   4.000            27   \n",
      "\n",
      "     num_inversions  \n",
      "40         1.666667  \n",
      "77         0.000000  \n",
      "58         0.000000  \n",
      "110        0.000000  \n",
      "89         2.300000  \n",
      "..              ...  \n",
      "106        0.000000  \n",
      "107        0.000000  \n",
      "111        0.000000  \n",
      "117        0.000000  \n",
      "118        0.000000  \n",
      "\n",
      "[122 rows x 5 columns]\n"
     ]
    }
   ],
   "source": [
    "speed= coasters_df.groupby(\"manufacturer\").speed.mean().reset_index()\n",
    "height = coasters_df.groupby(\"manufacturer\").height.mean().reset_index()\n",
    "seating_type = coasters_df.groupby(\"manufacturer\").seating_type.count().reset_index()\n",
    "inversions = coasters_df.groupby(\"manufacturer\").num_inversions.mean().reset_index()\n",
    "\n",
    "manufactures = speed.merge(height).merge(seating_type).merge(inversions)\n",
    "\n",
    "#Then we can sorr_values function in different ways while printing to see if one manufactuer has different focus \n",
    "print(manufactures.sort_values(by=\"speed\", ascending=False))"
   ]
  }
 ],
 "metadata": {
  "kernelspec": {
   "display_name": "Python 3",
   "language": "python",
   "name": "python3"
  },
  "language_info": {
   "codemirror_mode": {
    "name": "ipython",
    "version": 3
   },
   "file_extension": ".py",
   "mimetype": "text/x-python",
   "name": "python",
   "nbconvert_exporter": "python",
   "pygments_lexer": "ipython3",
   "version": "3.8.1"
  }
 },
 "nbformat": 4,
 "nbformat_minor": 4
}
